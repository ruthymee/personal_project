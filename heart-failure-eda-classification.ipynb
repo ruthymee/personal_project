{
 "cells": [
  {
   "cell_type": "markdown",
   "id": "607fd4c8",
   "metadata": {
    "_cell_guid": "b1076dfc-b9ad-4769-8c92-a6c4dae69d19",
    "_uuid": "8f2839f25d086af736a60e9eeb907d3b93b6e0e5",
    "papermill": {
     "duration": 0.00971,
     "end_time": "2025-03-13T08:50:37.834153",
     "exception": false,
     "start_time": "2025-03-13T08:50:37.824443",
     "status": "completed"
    },
    "tags": []
   },
   "source": [
    "# Table of Contents  \n",
    "\n",
    "1. [Introduction and Dataset Overview](#introduction-and-dataset-overview)\n",
    "2. [Exploratory Data Analysis (EDA)](#exploratory-data-analysis-eda)  \n",
    "3. [Data Preprocessing](#data-preprocessing)  \n",
    "4. [Machine Learning Models](#machine-learning-models)\n",
    "5. [Evaluation Classification Models](#evaluation-classification-models)"
   ]
  },
  {
   "cell_type": "markdown",
   "id": "12644ee1",
   "metadata": {
    "papermill": {
     "duration": 0.008687,
     "end_time": "2025-03-13T08:50:37.852111",
     "exception": false,
     "start_time": "2025-03-13T08:50:37.843424",
     "status": "completed"
    },
    "tags": []
   },
   "source": [
    "## Introduction and Dataset Overview\n",
    "\n",
    "This dataset contains 11 features that can be used to predict heart disease, a common result of cardiovascular diseases (CVDs). CVDs are the leading cause of death globally. Early detection and management are crucial for individuals at high risk of heart disease.\n",
    "\n",
    "### Attribute Information:\n",
    "- **Age**: Age of the patient [years]\n",
    "- **Sex**: Sex of the patient [M: Male, F: Female]\n",
    "- **ChestPainType**: Type of chest pain [TA: Typical Angina, ATA: Atypical Angina, NAP: Non-Anginal Pain, ASY: Asymptomatic]\n",
    "- **RestingBP**: Resting blood pressure [mm Hg]\n",
    "- **Cholesterol**: Serum cholesterol [mm/dl]\n",
    "- **FastingBS**: Fasting blood sugar [1: if FastingBS > 120 mg/dl, 0: otherwise]\n",
    "- **RestingECG**: Resting electrocardiogram results [Normal: Normal, ST: ST-T wave abnormality, LVH: Left ventricular hypertrophy]\n",
    "- **MaxHR**: Maximum heart rate achieved [Numeric value between 60 and 202]\n",
    "- **ExerciseAngina**: Exercise-induced angina [Y: Yes, N: No]\n",
    "- **Oldpeak**: Oldpeak = ST [Numeric value measured in depression]\n",
    "- **ST_Slope**: Slope of the peak exercise ST segment [Up: upsloping, Flat: flat, Down: downsloping]\n",
    "\n",
    "### Target Variable:\n",
    "- **HeartDisease**: Output class [1: heart disease, 0: Normal]\n"
   ]
  },
  {
   "cell_type": "markdown",
   "id": "cd8d2746",
   "metadata": {
    "papermill": {
     "duration": 0.008953,
     "end_time": "2025-03-13T08:50:37.870078",
     "exception": false,
     "start_time": "2025-03-13T08:50:37.861125",
     "status": "completed"
    },
    "tags": []
   },
   "source": [
    "## Exploratory Data Analysis (EDA)"
   ]
  },
  {
   "cell_type": "markdown",
   "id": "20e2818d",
   "metadata": {
    "papermill": {
     "duration": 0.008658,
     "end_time": "2025-03-13T08:50:37.887598",
     "exception": false,
     "start_time": "2025-03-13T08:50:37.878940",
     "status": "completed"
    },
    "tags": []
   },
   "source": [
    "**Read the dataset and display the first few rows**\n",
    "\n",
    "***Explanation:***\n",
    "This code reads the dataset from the CSV file and displays the first 5 rows to give an overview of the data structure and column names. It helps us quickly examine the initial few records and verify the data format."
   ]
  },
  {
   "cell_type": "code",
   "execution_count": 1,
   "id": "23168086",
   "metadata": {
    "execution": {
     "iopub.execute_input": "2025-03-13T08:50:37.906733Z",
     "iopub.status.busy": "2025-03-13T08:50:37.906283Z",
     "iopub.status.idle": "2025-03-13T08:50:38.982623Z",
     "shell.execute_reply": "2025-03-13T08:50:38.981308Z"
    },
    "papermill": {
     "duration": 1.088392,
     "end_time": "2025-03-13T08:50:38.984786",
     "exception": false,
     "start_time": "2025-03-13T08:50:37.896394",
     "status": "completed"
    },
    "tags": []
   },
   "outputs": [
    {
     "data": {
      "text/html": [
       "<div>\n",
       "<style scoped>\n",
       "    .dataframe tbody tr th:only-of-type {\n",
       "        vertical-align: middle;\n",
       "    }\n",
       "\n",
       "    .dataframe tbody tr th {\n",
       "        vertical-align: top;\n",
       "    }\n",
       "\n",
       "    .dataframe thead th {\n",
       "        text-align: right;\n",
       "    }\n",
       "</style>\n",
       "<table border=\"1\" class=\"dataframe\">\n",
       "  <thead>\n",
       "    <tr style=\"text-align: right;\">\n",
       "      <th></th>\n",
       "      <th>Age</th>\n",
       "      <th>Sex</th>\n",
       "      <th>ChestPainType</th>\n",
       "      <th>RestingBP</th>\n",
       "      <th>Cholesterol</th>\n",
       "      <th>FastingBS</th>\n",
       "      <th>RestingECG</th>\n",
       "      <th>MaxHR</th>\n",
       "      <th>ExerciseAngina</th>\n",
       "      <th>Oldpeak</th>\n",
       "      <th>ST_Slope</th>\n",
       "      <th>HeartDisease</th>\n",
       "    </tr>\n",
       "  </thead>\n",
       "  <tbody>\n",
       "    <tr>\n",
       "      <th>0</th>\n",
       "      <td>40</td>\n",
       "      <td>M</td>\n",
       "      <td>ATA</td>\n",
       "      <td>140</td>\n",
       "      <td>289</td>\n",
       "      <td>0</td>\n",
       "      <td>Normal</td>\n",
       "      <td>172</td>\n",
       "      <td>N</td>\n",
       "      <td>0.0</td>\n",
       "      <td>Up</td>\n",
       "      <td>0</td>\n",
       "    </tr>\n",
       "    <tr>\n",
       "      <th>1</th>\n",
       "      <td>49</td>\n",
       "      <td>F</td>\n",
       "      <td>NAP</td>\n",
       "      <td>160</td>\n",
       "      <td>180</td>\n",
       "      <td>0</td>\n",
       "      <td>Normal</td>\n",
       "      <td>156</td>\n",
       "      <td>N</td>\n",
       "      <td>1.0</td>\n",
       "      <td>Flat</td>\n",
       "      <td>1</td>\n",
       "    </tr>\n",
       "    <tr>\n",
       "      <th>2</th>\n",
       "      <td>37</td>\n",
       "      <td>M</td>\n",
       "      <td>ATA</td>\n",
       "      <td>130</td>\n",
       "      <td>283</td>\n",
       "      <td>0</td>\n",
       "      <td>ST</td>\n",
       "      <td>98</td>\n",
       "      <td>N</td>\n",
       "      <td>0.0</td>\n",
       "      <td>Up</td>\n",
       "      <td>0</td>\n",
       "    </tr>\n",
       "    <tr>\n",
       "      <th>3</th>\n",
       "      <td>48</td>\n",
       "      <td>F</td>\n",
       "      <td>ASY</td>\n",
       "      <td>138</td>\n",
       "      <td>214</td>\n",
       "      <td>0</td>\n",
       "      <td>Normal</td>\n",
       "      <td>108</td>\n",
       "      <td>Y</td>\n",
       "      <td>1.5</td>\n",
       "      <td>Flat</td>\n",
       "      <td>1</td>\n",
       "    </tr>\n",
       "    <tr>\n",
       "      <th>4</th>\n",
       "      <td>54</td>\n",
       "      <td>M</td>\n",
       "      <td>NAP</td>\n",
       "      <td>150</td>\n",
       "      <td>195</td>\n",
       "      <td>0</td>\n",
       "      <td>Normal</td>\n",
       "      <td>122</td>\n",
       "      <td>N</td>\n",
       "      <td>0.0</td>\n",
       "      <td>Up</td>\n",
       "      <td>0</td>\n",
       "    </tr>\n",
       "  </tbody>\n",
       "</table>\n",
       "</div>"
      ],
      "text/plain": [
       "   Age Sex ChestPainType  RestingBP  Cholesterol  FastingBS RestingECG  MaxHR  \\\n",
       "0   40   M           ATA        140          289          0     Normal    172   \n",
       "1   49   F           NAP        160          180          0     Normal    156   \n",
       "2   37   M           ATA        130          283          0         ST     98   \n",
       "3   48   F           ASY        138          214          0     Normal    108   \n",
       "4   54   M           NAP        150          195          0     Normal    122   \n",
       "\n",
       "  ExerciseAngina  Oldpeak ST_Slope  HeartDisease  \n",
       "0              N      0.0       Up             0  \n",
       "1              N      1.0     Flat             1  \n",
       "2              N      0.0       Up             0  \n",
       "3              Y      1.5     Flat             1  \n",
       "4              N      0.0       Up             0  "
      ]
     },
     "execution_count": 1,
     "metadata": {},
     "output_type": "execute_result"
    }
   ],
   "source": [
    "import numpy as np\n",
    "import pandas as pd\n",
    "\n",
    "df = pd.read_csv('/kaggle/input/heart-failure-prediction/heart.csv')\n",
    "df.head()"
   ]
  },
  {
   "cell_type": "code",
   "execution_count": 2,
   "id": "548c58a0",
   "metadata": {
    "execution": {
     "iopub.execute_input": "2025-03-13T08:50:39.005309Z",
     "iopub.status.busy": "2025-03-13T08:50:39.004848Z",
     "iopub.status.idle": "2025-03-13T08:50:39.034244Z",
     "shell.execute_reply": "2025-03-13T08:50:39.032650Z"
    },
    "papermill": {
     "duration": 0.041802,
     "end_time": "2025-03-13T08:50:39.036155",
     "exception": false,
     "start_time": "2025-03-13T08:50:38.994353",
     "status": "completed"
    },
    "tags": []
   },
   "outputs": [
    {
     "name": "stdout",
     "output_type": "stream",
     "text": [
      "<class 'pandas.core.frame.DataFrame'>\n",
      "RangeIndex: 918 entries, 0 to 917\n",
      "Data columns (total 12 columns):\n",
      " #   Column          Non-Null Count  Dtype  \n",
      "---  ------          --------------  -----  \n",
      " 0   Age             918 non-null    int64  \n",
      " 1   Sex             918 non-null    object \n",
      " 2   ChestPainType   918 non-null    object \n",
      " 3   RestingBP       918 non-null    int64  \n",
      " 4   Cholesterol     918 non-null    int64  \n",
      " 5   FastingBS       918 non-null    int64  \n",
      " 6   RestingECG      918 non-null    object \n",
      " 7   MaxHR           918 non-null    int64  \n",
      " 8   ExerciseAngina  918 non-null    object \n",
      " 9   Oldpeak         918 non-null    float64\n",
      " 10  ST_Slope        918 non-null    object \n",
      " 11  HeartDisease    918 non-null    int64  \n",
      "dtypes: float64(1), int64(6), object(5)\n",
      "memory usage: 86.2+ KB\n"
     ]
    }
   ],
   "source": [
    "df.info()"
   ]
  },
  {
   "cell_type": "markdown",
   "id": "dcfe5086",
   "metadata": {
    "papermill": {
     "duration": 0.008983,
     "end_time": "2025-03-13T08:50:39.055132",
     "exception": false,
     "start_time": "2025-03-13T08:50:39.046149",
     "status": "completed"
    },
    "tags": []
   },
   "source": [
    "#### Checking for Missing Values"
   ]
  },
  {
   "cell_type": "code",
   "execution_count": 3,
   "id": "12ca5586",
   "metadata": {
    "execution": {
     "iopub.execute_input": "2025-03-13T08:50:39.075667Z",
     "iopub.status.busy": "2025-03-13T08:50:39.075321Z",
     "iopub.status.idle": "2025-03-13T08:50:39.083621Z",
     "shell.execute_reply": "2025-03-13T08:50:39.082266Z"
    },
    "papermill": {
     "duration": 0.020954,
     "end_time": "2025-03-13T08:50:39.085446",
     "exception": false,
     "start_time": "2025-03-13T08:50:39.064492",
     "status": "completed"
    },
    "tags": []
   },
   "outputs": [
    {
     "data": {
      "text/plain": [
       "Age               0\n",
       "Sex               0\n",
       "ChestPainType     0\n",
       "RestingBP         0\n",
       "Cholesterol       0\n",
       "FastingBS         0\n",
       "RestingECG        0\n",
       "MaxHR             0\n",
       "ExerciseAngina    0\n",
       "Oldpeak           0\n",
       "ST_Slope          0\n",
       "HeartDisease      0\n",
       "dtype: int64"
      ]
     },
     "execution_count": 3,
     "metadata": {},
     "output_type": "execute_result"
    }
   ],
   "source": [
    "df.isnull().sum()"
   ]
  },
  {
   "cell_type": "markdown",
   "id": "9d8030d9",
   "metadata": {
    "papermill": {
     "duration": 0.00915,
     "end_time": "2025-03-13T08:50:39.104680",
     "exception": false,
     "start_time": "2025-03-13T08:50:39.095530",
     "status": "completed"
    },
    "tags": []
   },
   "source": [
    "This step checks for missing values in the dataset. Since the result is 0 for each column, it indicates that there are no missing values in any of the columns. Therefore, the dataset is complete, and we don't need to handle missing values before proceeding with further analysis."
   ]
  },
  {
   "cell_type": "markdown",
   "id": "ed2dfc9f",
   "metadata": {
    "papermill": {
     "duration": 0.009033,
     "end_time": "2025-03-13T08:50:39.123079",
     "exception": false,
     "start_time": "2025-03-13T08:50:39.114046",
     "status": "completed"
    },
    "tags": []
   },
   "source": [
    "#### Summary Statistics"
   ]
  },
  {
   "cell_type": "code",
   "execution_count": 4,
   "id": "a06333d1",
   "metadata": {
    "execution": {
     "iopub.execute_input": "2025-03-13T08:50:39.144512Z",
     "iopub.status.busy": "2025-03-13T08:50:39.144145Z",
     "iopub.status.idle": "2025-03-13T08:50:39.175225Z",
     "shell.execute_reply": "2025-03-13T08:50:39.174006Z"
    },
    "papermill": {
     "duration": 0.044612,
     "end_time": "2025-03-13T08:50:39.177119",
     "exception": false,
     "start_time": "2025-03-13T08:50:39.132507",
     "status": "completed"
    },
    "tags": []
   },
   "outputs": [
    {
     "data": {
      "text/html": [
       "<div>\n",
       "<style scoped>\n",
       "    .dataframe tbody tr th:only-of-type {\n",
       "        vertical-align: middle;\n",
       "    }\n",
       "\n",
       "    .dataframe tbody tr th {\n",
       "        vertical-align: top;\n",
       "    }\n",
       "\n",
       "    .dataframe thead th {\n",
       "        text-align: right;\n",
       "    }\n",
       "</style>\n",
       "<table border=\"1\" class=\"dataframe\">\n",
       "  <thead>\n",
       "    <tr style=\"text-align: right;\">\n",
       "      <th></th>\n",
       "      <th>Age</th>\n",
       "      <th>RestingBP</th>\n",
       "      <th>Cholesterol</th>\n",
       "      <th>FastingBS</th>\n",
       "      <th>MaxHR</th>\n",
       "      <th>Oldpeak</th>\n",
       "      <th>HeartDisease</th>\n",
       "    </tr>\n",
       "  </thead>\n",
       "  <tbody>\n",
       "    <tr>\n",
       "      <th>count</th>\n",
       "      <td>918.000000</td>\n",
       "      <td>918.000000</td>\n",
       "      <td>918.000000</td>\n",
       "      <td>918.000000</td>\n",
       "      <td>918.000000</td>\n",
       "      <td>918.000000</td>\n",
       "      <td>918.000000</td>\n",
       "    </tr>\n",
       "    <tr>\n",
       "      <th>mean</th>\n",
       "      <td>53.510893</td>\n",
       "      <td>132.396514</td>\n",
       "      <td>198.799564</td>\n",
       "      <td>0.233115</td>\n",
       "      <td>136.809368</td>\n",
       "      <td>0.887364</td>\n",
       "      <td>0.553377</td>\n",
       "    </tr>\n",
       "    <tr>\n",
       "      <th>std</th>\n",
       "      <td>9.432617</td>\n",
       "      <td>18.514154</td>\n",
       "      <td>109.384145</td>\n",
       "      <td>0.423046</td>\n",
       "      <td>25.460334</td>\n",
       "      <td>1.066570</td>\n",
       "      <td>0.497414</td>\n",
       "    </tr>\n",
       "    <tr>\n",
       "      <th>min</th>\n",
       "      <td>28.000000</td>\n",
       "      <td>0.000000</td>\n",
       "      <td>0.000000</td>\n",
       "      <td>0.000000</td>\n",
       "      <td>60.000000</td>\n",
       "      <td>-2.600000</td>\n",
       "      <td>0.000000</td>\n",
       "    </tr>\n",
       "    <tr>\n",
       "      <th>25%</th>\n",
       "      <td>47.000000</td>\n",
       "      <td>120.000000</td>\n",
       "      <td>173.250000</td>\n",
       "      <td>0.000000</td>\n",
       "      <td>120.000000</td>\n",
       "      <td>0.000000</td>\n",
       "      <td>0.000000</td>\n",
       "    </tr>\n",
       "    <tr>\n",
       "      <th>50%</th>\n",
       "      <td>54.000000</td>\n",
       "      <td>130.000000</td>\n",
       "      <td>223.000000</td>\n",
       "      <td>0.000000</td>\n",
       "      <td>138.000000</td>\n",
       "      <td>0.600000</td>\n",
       "      <td>1.000000</td>\n",
       "    </tr>\n",
       "    <tr>\n",
       "      <th>75%</th>\n",
       "      <td>60.000000</td>\n",
       "      <td>140.000000</td>\n",
       "      <td>267.000000</td>\n",
       "      <td>0.000000</td>\n",
       "      <td>156.000000</td>\n",
       "      <td>1.500000</td>\n",
       "      <td>1.000000</td>\n",
       "    </tr>\n",
       "    <tr>\n",
       "      <th>max</th>\n",
       "      <td>77.000000</td>\n",
       "      <td>200.000000</td>\n",
       "      <td>603.000000</td>\n",
       "      <td>1.000000</td>\n",
       "      <td>202.000000</td>\n",
       "      <td>6.200000</td>\n",
       "      <td>1.000000</td>\n",
       "    </tr>\n",
       "  </tbody>\n",
       "</table>\n",
       "</div>"
      ],
      "text/plain": [
       "              Age   RestingBP  Cholesterol   FastingBS       MaxHR  \\\n",
       "count  918.000000  918.000000   918.000000  918.000000  918.000000   \n",
       "mean    53.510893  132.396514   198.799564    0.233115  136.809368   \n",
       "std      9.432617   18.514154   109.384145    0.423046   25.460334   \n",
       "min     28.000000    0.000000     0.000000    0.000000   60.000000   \n",
       "25%     47.000000  120.000000   173.250000    0.000000  120.000000   \n",
       "50%     54.000000  130.000000   223.000000    0.000000  138.000000   \n",
       "75%     60.000000  140.000000   267.000000    0.000000  156.000000   \n",
       "max     77.000000  200.000000   603.000000    1.000000  202.000000   \n",
       "\n",
       "          Oldpeak  HeartDisease  \n",
       "count  918.000000    918.000000  \n",
       "mean     0.887364      0.553377  \n",
       "std      1.066570      0.497414  \n",
       "min     -2.600000      0.000000  \n",
       "25%      0.000000      0.000000  \n",
       "50%      0.600000      1.000000  \n",
       "75%      1.500000      1.000000  \n",
       "max      6.200000      1.000000  "
      ]
     },
     "execution_count": 4,
     "metadata": {},
     "output_type": "execute_result"
    }
   ],
   "source": [
    "df.describe()"
   ]
  },
  {
   "cell_type": "markdown",
   "id": "60db2294",
   "metadata": {
    "papermill": {
     "duration": 0.009141,
     "end_time": "2025-03-13T08:50:39.196013",
     "exception": false,
     "start_time": "2025-03-13T08:50:39.186872",
     "status": "completed"
    },
    "tags": []
   },
   "source": [
    "#### Data Distribution and Visualization"
   ]
  },
  {
   "cell_type": "code",
   "execution_count": 5,
   "id": "bd1c407f",
   "metadata": {
    "execution": {
     "iopub.execute_input": "2025-03-13T08:50:39.216526Z",
     "iopub.status.busy": "2025-03-13T08:50:39.216150Z",
     "iopub.status.idle": "2025-03-13T08:50:41.106430Z",
     "shell.execute_reply": "2025-03-13T08:50:41.105448Z"
    },
    "papermill": {
     "duration": 1.902801,
     "end_time": "2025-03-13T08:50:41.108534",
     "exception": false,
     "start_time": "2025-03-13T08:50:39.205733",
     "status": "completed"
    },
    "tags": []
   },
   "outputs": [],
   "source": [
    "import matplotlib.pyplot as plt\n",
    "import seaborn as sns"
   ]
  },
  {
   "cell_type": "code",
   "execution_count": 6,
   "id": "ea8339fa",
   "metadata": {
    "execution": {
     "iopub.execute_input": "2025-03-13T08:50:41.131885Z",
     "iopub.status.busy": "2025-03-13T08:50:41.131187Z",
     "iopub.status.idle": "2025-03-13T08:50:42.429421Z",
     "shell.execute_reply": "2025-03-13T08:50:42.428105Z"
    },
    "papermill": {
     "duration": 1.312443,
     "end_time": "2025-03-13T08:50:42.431206",
     "exception": false,
     "start_time": "2025-03-13T08:50:41.118763",
     "status": "completed"
    },
    "scrolled": true,
    "tags": []
   },
   "outputs": [
    {
     "data": {
      "image/png": "[encoded data removed]",
      "text/plain": [
       "<Figure size 1000x1000 with 9 Axes>"
      ]
     },
     "metadata": {},
     "output_type": "display_data"
    }
   ],
   "source": [
    "# Plotting histograms for numerical features\n",
    "\n",
    "df.hist(figsize=(10, 10))\n",
    "plt.show()"
   ]
  },
  {
   "cell_type": "code",
   "execution_count": 7,
   "id": "a319ab55",
   "metadata": {
    "execution": {
     "iopub.execute_input": "2025-03-13T08:50:42.455050Z",
     "iopub.status.busy": "2025-03-13T08:50:42.454630Z",
     "iopub.status.idle": "2025-03-13T08:50:42.950440Z",
     "shell.execute_reply": "2025-03-13T08:50:42.949157Z"
    },
    "papermill": {
     "duration": 0.509853,
     "end_time": "2025-03-13T08:50:42.952102",
     "exception": false,
     "start_time": "2025-03-13T08:50:42.442249",
     "status": "completed"
    },
    "tags": []
   },
   "outputs": [
    {
     "data": {
      "image/png": "[encoded data removed]",
      "text/plain": [
       "<Figure size 640x480 with 2 Axes>"
      ]
     },
     "metadata": {},
     "output_type": "display_data"
    }
   ],
   "source": [
    "# Correlation heatmap\n",
    "# plt.figure(figsize=(12, 8))\n",
    "sns.heatmap(df.select_dtypes(include=['number']).corr(), annot = True, cmap = 'coolwarm')\n",
    "plt.show()"
   ]
  },
  {
   "cell_type": "code",
   "execution_count": 8,
   "id": "db28a3fc",
   "metadata": {
    "execution": {
     "iopub.execute_input": "2025-03-13T08:50:42.980743Z",
     "iopub.status.busy": "2025-03-13T08:50:42.980392Z",
     "iopub.status.idle": "2025-03-13T08:50:42.985552Z",
     "shell.execute_reply": "2025-03-13T08:50:42.984365Z"
    },
    "papermill": {
     "duration": 0.022168,
     "end_time": "2025-03-13T08:50:42.987472",
     "exception": false,
     "start_time": "2025-03-13T08:50:42.965304",
     "status": "completed"
    },
    "tags": []
   },
   "outputs": [],
   "source": [
    "categorical_columns = list(df.select_dtypes(include=[object]).columns)"
   ]
  },
  {
   "cell_type": "code",
   "execution_count": 9,
   "id": "5216f408",
   "metadata": {
    "execution": {
     "iopub.execute_input": "2025-03-13T08:50:43.013588Z",
     "iopub.status.busy": "2025-03-13T08:50:43.013210Z",
     "iopub.status.idle": "2025-03-13T08:50:43.998029Z",
     "shell.execute_reply": "2025-03-13T08:50:43.996800Z"
    },
    "papermill": {
     "duration": 1.000241,
     "end_time": "2025-03-13T08:50:43.999967",
     "exception": false,
     "start_time": "2025-03-13T08:50:42.999726",
     "status": "completed"
    },
    "tags": []
   },
   "outputs": [
    {
     "data": {
      "image/png": "[encoded data removed]",
      "text/plain": [
       "<Figure size 1200x1500 with 6 Axes>"
      ]
     },
     "metadata": {},
     "output_type": "display_data"
    }
   ],
   "source": [
    "# Create subplots: 2 columns for better layout, and enough rows to fit all categorical plots\n",
    "n_cols = 2\n",
    "n_rows = (len(categorical_columns) + 1) // n_cols  # Number of rows needed\n",
    "\n",
    "# Create a figure with subplots\n",
    "fig, axes = plt.subplots(n_rows, n_cols, figsize=(12, 5 * n_rows))\n",
    "\n",
    "# Flatten the axes array for easier iteration\n",
    "axes = axes.flatten()\n",
    "\n",
    "# Plot countplot for each categorical column\n",
    "for i, column in enumerate(categorical_columns):\n",
    "    sns.countplot(x=column, data=df, ax=axes[i])\n",
    "    axes[i].set_title(f'Count Plot of {column}')\n",
    "    axes[i].set_xlabel(column)\n",
    "    axes[i].set_ylabel('Count')\n",
    "\n",
    "# Adjust layout for better spacing\n",
    "plt.tight_layout()\n",
    "plt.show()\n"
   ]
  },
  {
   "cell_type": "code",
   "execution_count": 10,
   "id": "a5520de7",
   "metadata": {
    "execution": {
     "iopub.execute_input": "2025-03-13T08:50:44.029809Z",
     "iopub.status.busy": "2025-03-13T08:50:44.029441Z",
     "iopub.status.idle": "2025-03-13T08:50:44.038787Z",
     "shell.execute_reply": "2025-03-13T08:50:44.037774Z"
    },
    "papermill": {
     "duration": 0.026647,
     "end_time": "2025-03-13T08:50:44.040416",
     "exception": false,
     "start_time": "2025-03-13T08:50:44.013769",
     "status": "completed"
    },
    "tags": []
   },
   "outputs": [
    {
     "data": {
      "text/plain": [
       "HeartDisease\n",
       "1    508\n",
       "0    410\n",
       "Name: count, dtype: int64"
      ]
     },
     "execution_count": 10,
     "metadata": {},
     "output_type": "execute_result"
    }
   ],
   "source": [
    "# Checking class imbalance\n",
    "df['HeartDisease'].value_counts()"
   ]
  },
  {
   "cell_type": "code",
   "execution_count": 11,
   "id": "47312c61",
   "metadata": {
    "execution": {
     "iopub.execute_input": "2025-03-13T08:50:44.070553Z",
     "iopub.status.busy": "2025-03-13T08:50:44.070144Z",
     "iopub.status.idle": "2025-03-13T08:50:44.187278Z",
     "shell.execute_reply": "2025-03-13T08:50:44.186029Z"
    },
    "papermill": {
     "duration": 0.13409,
     "end_time": "2025-03-13T08:50:44.189109",
     "exception": false,
     "start_time": "2025-03-13T08:50:44.055019",
     "status": "completed"
    },
    "tags": []
   },
   "outputs": [
    {
     "data": {
      "image/png": "[encoded data removed]",
      "text/plain": [
       "<Figure size 640x480 with 1 Axes>"
      ]
     },
     "metadata": {},
     "output_type": "display_data"
    }
   ],
   "source": [
    "# Distribution of target variable\n",
    "sns.countplot(x='HeartDisease', data=df)\n",
    "plt.show()"
   ]
  },
  {
   "cell_type": "markdown",
   "id": "8594ccb7",
   "metadata": {
    "papermill": {
     "duration": 0.013774,
     "end_time": "2025-03-13T08:50:44.217171",
     "exception": false,
     "start_time": "2025-03-13T08:50:44.203397",
     "status": "completed"
    },
    "tags": []
   },
   "source": [
    "### Data Preprocessing"
   ]
  },
  {
   "cell_type": "code",
   "execution_count": 12,
   "id": "a1c34aa9",
   "metadata": {
    "execution": {
     "iopub.execute_input": "2025-03-13T08:50:44.247449Z",
     "iopub.status.busy": "2025-03-13T08:50:44.247103Z",
     "iopub.status.idle": "2025-03-13T08:50:44.251844Z",
     "shell.execute_reply": "2025-03-13T08:50:44.250667Z"
    },
    "papermill": {
     "duration": 0.022013,
     "end_time": "2025-03-13T08:50:44.253749",
     "exception": false,
     "start_time": "2025-03-13T08:50:44.231736",
     "status": "completed"
    },
    "tags": []
   },
   "outputs": [],
   "source": [
    "# Create a copy of the original dataset\n",
    "data = df.copy()"
   ]
  },
  {
   "cell_type": "code",
   "execution_count": 13,
   "id": "b3b952c2",
   "metadata": {
    "execution": {
     "iopub.execute_input": "2025-03-13T08:50:44.283235Z",
     "iopub.status.busy": "2025-03-13T08:50:44.282761Z",
     "iopub.status.idle": "2025-03-13T08:50:44.291286Z",
     "shell.execute_reply": "2025-03-13T08:50:44.290123Z"
    },
    "papermill": {
     "duration": 0.025453,
     "end_time": "2025-03-13T08:50:44.293122",
     "exception": false,
     "start_time": "2025-03-13T08:50:44.267669",
     "status": "completed"
    },
    "tags": []
   },
   "outputs": [
    {
     "name": "stdout",
     "output_type": "stream",
     "text": [
      "{'Sex': 'Binary', 'ChestPainType': 'Multi-class', 'RestingECG': 'Multi-class', 'ExerciseAngina': 'Binary', 'ST_Slope': 'Multi-class'}\n"
     ]
    }
   ],
   "source": [
    "# Create a dictionary to store the type of categorical variable\n",
    "categorical_types = {}\n",
    "\n",
    "for column in categorical_columns:\n",
    "    unique_values = df[column].nunique()  # Get the number of unique values\n",
    "    if unique_values == 2:\n",
    "        categorical_types[column] = 'Binary'\n",
    "    else:\n",
    "        categorical_types[column] = 'Multi-class'\n",
    "\n",
    "# Display the types of categorical variables\n",
    "print(categorical_types)"
   ]
  },
  {
   "cell_type": "markdown",
   "id": "8d1dadad",
   "metadata": {
    "papermill": {
     "duration": 0.01347,
     "end_time": "2025-03-13T08:50:44.320755",
     "exception": false,
     "start_time": "2025-03-13T08:50:44.307285",
     "status": "completed"
    },
    "tags": []
   },
   "source": [
    "**Label Encoding (Binary)**"
   ]
  },
  {
   "cell_type": "code",
   "execution_count": 14,
   "id": "a227ee8c",
   "metadata": {
    "execution": {
     "iopub.execute_input": "2025-03-13T08:50:44.351995Z",
     "iopub.status.busy": "2025-03-13T08:50:44.351596Z",
     "iopub.status.idle": "2025-03-13T08:50:44.569310Z",
     "shell.execute_reply": "2025-03-13T08:50:44.568075Z"
    },
    "papermill": {
     "duration": 0.236282,
     "end_time": "2025-03-13T08:50:44.571252",
     "exception": false,
     "start_time": "2025-03-13T08:50:44.334970",
     "status": "completed"
    },
    "tags": []
   },
   "outputs": [
    {
     "data": {
      "text/html": [
       "<div>\n",
       "<style scoped>\n",
       "    .dataframe tbody tr th:only-of-type {\n",
       "        vertical-align: middle;\n",
       "    }\n",
       "\n",
       "    .dataframe tbody tr th {\n",
       "        vertical-align: top;\n",
       "    }\n",
       "\n",
       "    .dataframe thead th {\n",
       "        text-align: right;\n",
       "    }\n",
       "</style>\n",
       "<table border=\"1\" class=\"dataframe\">\n",
       "  <thead>\n",
       "    <tr style=\"text-align: right;\">\n",
       "      <th></th>\n",
       "      <th>Age</th>\n",
       "      <th>Sex</th>\n",
       "      <th>ChestPainType</th>\n",
       "      <th>RestingBP</th>\n",
       "      <th>Cholesterol</th>\n",
       "      <th>FastingBS</th>\n",
       "      <th>RestingECG</th>\n",
       "      <th>MaxHR</th>\n",
       "      <th>ExerciseAngina</th>\n",
       "      <th>Oldpeak</th>\n",
       "      <th>ST_Slope</th>\n",
       "      <th>HeartDisease</th>\n",
       "    </tr>\n",
       "  </thead>\n",
       "  <tbody>\n",
       "    <tr>\n",
       "      <th>0</th>\n",
       "      <td>40</td>\n",
       "      <td>1</td>\n",
       "      <td>ATA</td>\n",
       "      <td>140</td>\n",
       "      <td>289</td>\n",
       "      <td>0</td>\n",
       "      <td>Normal</td>\n",
       "      <td>172</td>\n",
       "      <td>0</td>\n",
       "      <td>0.0</td>\n",
       "      <td>Up</td>\n",
       "      <td>0</td>\n",
       "    </tr>\n",
       "    <tr>\n",
       "      <th>1</th>\n",
       "      <td>49</td>\n",
       "      <td>0</td>\n",
       "      <td>NAP</td>\n",
       "      <td>160</td>\n",
       "      <td>180</td>\n",
       "      <td>0</td>\n",
       "      <td>Normal</td>\n",
       "      <td>156</td>\n",
       "      <td>0</td>\n",
       "      <td>1.0</td>\n",
       "      <td>Flat</td>\n",
       "      <td>1</td>\n",
       "    </tr>\n",
       "    <tr>\n",
       "      <th>2</th>\n",
       "      <td>37</td>\n",
       "      <td>1</td>\n",
       "      <td>ATA</td>\n",
       "      <td>130</td>\n",
       "      <td>283</td>\n",
       "      <td>0</td>\n",
       "      <td>ST</td>\n",
       "      <td>98</td>\n",
       "      <td>0</td>\n",
       "      <td>0.0</td>\n",
       "      <td>Up</td>\n",
       "      <td>0</td>\n",
       "    </tr>\n",
       "    <tr>\n",
       "      <th>3</th>\n",
       "      <td>48</td>\n",
       "      <td>0</td>\n",
       "      <td>ASY</td>\n",
       "      <td>138</td>\n",
       "      <td>214</td>\n",
       "      <td>0</td>\n",
       "      <td>Normal</td>\n",
       "      <td>108</td>\n",
       "      <td>1</td>\n",
       "      <td>1.5</td>\n",
       "      <td>Flat</td>\n",
       "      <td>1</td>\n",
       "    </tr>\n",
       "    <tr>\n",
       "      <th>4</th>\n",
       "      <td>54</td>\n",
       "      <td>1</td>\n",
       "      <td>NAP</td>\n",
       "      <td>150</td>\n",
       "      <td>195</td>\n",
       "      <td>0</td>\n",
       "      <td>Normal</td>\n",
       "      <td>122</td>\n",
       "      <td>0</td>\n",
       "      <td>0.0</td>\n",
       "      <td>Up</td>\n",
       "      <td>0</td>\n",
       "    </tr>\n",
       "  </tbody>\n",
       "</table>\n",
       "</div>"
      ],
      "text/plain": [
       "   Age  Sex ChestPainType  RestingBP  Cholesterol  FastingBS RestingECG  \\\n",
       "0   40    1           ATA        140          289          0     Normal   \n",
       "1   49    0           NAP        160          180          0     Normal   \n",
       "2   37    1           ATA        130          283          0         ST   \n",
       "3   48    0           ASY        138          214          0     Normal   \n",
       "4   54    1           NAP        150          195          0     Normal   \n",
       "\n",
       "   MaxHR  ExerciseAngina  Oldpeak ST_Slope  HeartDisease  \n",
       "0    172               0      0.0       Up             0  \n",
       "1    156               0      1.0     Flat             1  \n",
       "2     98               0      0.0       Up             0  \n",
       "3    108               1      1.5     Flat             1  \n",
       "4    122               0      0.0       Up             0  "
      ]
     },
     "execution_count": 14,
     "metadata": {},
     "output_type": "execute_result"
    }
   ],
   "source": [
    "from sklearn.preprocessing import LabelEncoder\n",
    "\n",
    "label_encoder = LabelEncoder()\n",
    "data['Sex'] = label_encoder.fit_transform(data['Sex'])\n",
    "data['ExerciseAngina'] = label_encoder.fit_transform(data['ExerciseAngina'])\n",
    "\n",
    "data.head()"
   ]
  },
  {
   "cell_type": "markdown",
   "id": "186a300e",
   "metadata": {
    "papermill": {
     "duration": 0.014134,
     "end_time": "2025-03-13T08:50:44.600224",
     "exception": false,
     "start_time": "2025-03-13T08:50:44.586090",
     "status": "completed"
    },
    "tags": []
   },
   "source": [
    "**One-Hot Encoding (Multi-Class)**"
   ]
  },
  {
   "cell_type": "code",
   "execution_count": 15,
   "id": "96951334",
   "metadata": {
    "execution": {
     "iopub.execute_input": "2025-03-13T08:50:44.630668Z",
     "iopub.status.busy": "2025-03-13T08:50:44.630233Z",
     "iopub.status.idle": "2025-03-13T08:50:44.652722Z",
     "shell.execute_reply": "2025-03-13T08:50:44.651292Z"
    },
    "papermill": {
     "duration": 0.040057,
     "end_time": "2025-03-13T08:50:44.654687",
     "exception": false,
     "start_time": "2025-03-13T08:50:44.614630",
     "status": "completed"
    },
    "tags": []
   },
   "outputs": [
    {
     "data": {
      "text/html": [
       "<div>\n",
       "<style scoped>\n",
       "    .dataframe tbody tr th:only-of-type {\n",
       "        vertical-align: middle;\n",
       "    }\n",
       "\n",
       "    .dataframe tbody tr th {\n",
       "        vertical-align: top;\n",
       "    }\n",
       "\n",
       "    .dataframe thead th {\n",
       "        text-align: right;\n",
       "    }\n",
       "</style>\n",
       "<table border=\"1\" class=\"dataframe\">\n",
       "  <thead>\n",
       "    <tr style=\"text-align: right;\">\n",
       "      <th></th>\n",
       "      <th>Age</th>\n",
       "      <th>Sex</th>\n",
       "      <th>RestingBP</th>\n",
       "      <th>Cholesterol</th>\n",
       "      <th>FastingBS</th>\n",
       "      <th>MaxHR</th>\n",
       "      <th>ExerciseAngina</th>\n",
       "      <th>Oldpeak</th>\n",
       "      <th>HeartDisease</th>\n",
       "      <th>ChestPainType_ATA</th>\n",
       "      <th>ChestPainType_NAP</th>\n",
       "      <th>ChestPainType_TA</th>\n",
       "      <th>RestingECG_Normal</th>\n",
       "      <th>RestingECG_ST</th>\n",
       "      <th>ST_Slope_Flat</th>\n",
       "      <th>ST_Slope_Up</th>\n",
       "    </tr>\n",
       "  </thead>\n",
       "  <tbody>\n",
       "    <tr>\n",
       "      <th>0</th>\n",
       "      <td>40</td>\n",
       "      <td>1</td>\n",
       "      <td>140</td>\n",
       "      <td>289</td>\n",
       "      <td>0</td>\n",
       "      <td>172</td>\n",
       "      <td>0</td>\n",
       "      <td>0.0</td>\n",
       "      <td>0</td>\n",
       "      <td>1</td>\n",
       "      <td>0</td>\n",
       "      <td>0</td>\n",
       "      <td>1</td>\n",
       "      <td>0</td>\n",
       "      <td>0</td>\n",
       "      <td>1</td>\n",
       "    </tr>\n",
       "    <tr>\n",
       "      <th>1</th>\n",
       "      <td>49</td>\n",
       "      <td>0</td>\n",
       "      <td>160</td>\n",
       "      <td>180</td>\n",
       "      <td>0</td>\n",
       "      <td>156</td>\n",
       "      <td>0</td>\n",
       "      <td>1.0</td>\n",
       "      <td>1</td>\n",
       "      <td>0</td>\n",
       "      <td>1</td>\n",
       "      <td>0</td>\n",
       "      <td>1</td>\n",
       "      <td>0</td>\n",
       "      <td>1</td>\n",
       "      <td>0</td>\n",
       "    </tr>\n",
       "    <tr>\n",
       "      <th>2</th>\n",
       "      <td>37</td>\n",
       "      <td>1</td>\n",
       "      <td>130</td>\n",
       "      <td>283</td>\n",
       "      <td>0</td>\n",
       "      <td>98</td>\n",
       "      <td>0</td>\n",
       "      <td>0.0</td>\n",
       "      <td>0</td>\n",
       "      <td>1</td>\n",
       "      <td>0</td>\n",
       "      <td>0</td>\n",
       "      <td>0</td>\n",
       "      <td>1</td>\n",
       "      <td>0</td>\n",
       "      <td>1</td>\n",
       "    </tr>\n",
       "    <tr>\n",
       "      <th>3</th>\n",
       "      <td>48</td>\n",
       "      <td>0</td>\n",
       "      <td>138</td>\n",
       "      <td>214</td>\n",
       "      <td>0</td>\n",
       "      <td>108</td>\n",
       "      <td>1</td>\n",
       "      <td>1.5</td>\n",
       "      <td>1</td>\n",
       "      <td>0</td>\n",
       "      <td>0</td>\n",
       "      <td>0</td>\n",
       "      <td>1</td>\n",
       "      <td>0</td>\n",
       "      <td>1</td>\n",
       "      <td>0</td>\n",
       "    </tr>\n",
       "    <tr>\n",
       "      <th>4</th>\n",
       "      <td>54</td>\n",
       "      <td>1</td>\n",
       "      <td>150</td>\n",
       "      <td>195</td>\n",
       "      <td>0</td>\n",
       "      <td>122</td>\n",
       "      <td>0</td>\n",
       "      <td>0.0</td>\n",
       "      <td>0</td>\n",
       "      <td>0</td>\n",
       "      <td>1</td>\n",
       "      <td>0</td>\n",
       "      <td>1</td>\n",
       "      <td>0</td>\n",
       "      <td>0</td>\n",
       "      <td>1</td>\n",
       "    </tr>\n",
       "  </tbody>\n",
       "</table>\n",
       "</div>"
      ],
      "text/plain": [
       "   Age  Sex  RestingBP  Cholesterol  FastingBS  MaxHR  ExerciseAngina  \\\n",
       "0   40    1        140          289          0    172               0   \n",
       "1   49    0        160          180          0    156               0   \n",
       "2   37    1        130          283          0     98               0   \n",
       "3   48    0        138          214          0    108               1   \n",
       "4   54    1        150          195          0    122               0   \n",
       "\n",
       "   Oldpeak  HeartDisease  ChestPainType_ATA  ChestPainType_NAP  \\\n",
       "0      0.0             0                  1                  0   \n",
       "1      1.0             1                  0                  1   \n",
       "2      0.0             0                  1                  0   \n",
       "3      1.5             1                  0                  0   \n",
       "4      0.0             0                  0                  1   \n",
       "\n",
       "   ChestPainType_TA  RestingECG_Normal  RestingECG_ST  ST_Slope_Flat  \\\n",
       "0                 0                  1              0              0   \n",
       "1                 0                  1              0              1   \n",
       "2                 0                  0              1              0   \n",
       "3                 0                  1              0              1   \n",
       "4                 0                  1              0              0   \n",
       "\n",
       "   ST_Slope_Up  \n",
       "0            1  \n",
       "1            0  \n",
       "2            1  \n",
       "3            0  \n",
       "4            1  "
      ]
     },
     "execution_count": 15,
     "metadata": {},
     "output_type": "execute_result"
    }
   ],
   "source": [
    "data = pd.get_dummies(data, columns=['ChestPainType', 'RestingECG', 'ST_Slope'], drop_first=True, dtype=int)\n",
    "data.head()"
   ]
  },
  {
   "cell_type": "markdown",
   "id": "979bc8f9",
   "metadata": {
    "papermill": {
     "duration": 0.014308,
     "end_time": "2025-03-13T08:50:44.683782",
     "exception": false,
     "start_time": "2025-03-13T08:50:44.669474",
     "status": "completed"
    },
    "tags": []
   },
   "source": [
    "**Min-Max Scaling**"
   ]
  },
  {
   "cell_type": "code",
   "execution_count": 16,
   "id": "080709fc",
   "metadata": {
    "execution": {
     "iopub.execute_input": "2025-03-13T08:50:44.714281Z",
     "iopub.status.busy": "2025-03-13T08:50:44.713822Z",
     "iopub.status.idle": "2025-03-13T08:50:44.735300Z",
     "shell.execute_reply": "2025-03-13T08:50:44.734040Z"
    },
    "papermill": {
     "duration": 0.038791,
     "end_time": "2025-03-13T08:50:44.737104",
     "exception": false,
     "start_time": "2025-03-13T08:50:44.698313",
     "status": "completed"
    },
    "tags": []
   },
   "outputs": [
    {
     "data": {
      "text/html": [
       "<div>\n",
       "<style scoped>\n",
       "    .dataframe tbody tr th:only-of-type {\n",
       "        vertical-align: middle;\n",
       "    }\n",
       "\n",
       "    .dataframe tbody tr th {\n",
       "        vertical-align: top;\n",
       "    }\n",
       "\n",
       "    .dataframe thead th {\n",
       "        text-align: right;\n",
       "    }\n",
       "</style>\n",
       "<table border=\"1\" class=\"dataframe\">\n",
       "  <thead>\n",
       "    <tr style=\"text-align: right;\">\n",
       "      <th></th>\n",
       "      <th>Age</th>\n",
       "      <th>Sex</th>\n",
       "      <th>RestingBP</th>\n",
       "      <th>Cholesterol</th>\n",
       "      <th>FastingBS</th>\n",
       "      <th>MaxHR</th>\n",
       "      <th>ExerciseAngina</th>\n",
       "      <th>Oldpeak</th>\n",
       "      <th>HeartDisease</th>\n",
       "      <th>ChestPainType_ATA</th>\n",
       "      <th>ChestPainType_NAP</th>\n",
       "      <th>ChestPainType_TA</th>\n",
       "      <th>RestingECG_Normal</th>\n",
       "      <th>RestingECG_ST</th>\n",
       "      <th>ST_Slope_Flat</th>\n",
       "      <th>ST_Slope_Up</th>\n",
       "    </tr>\n",
       "  </thead>\n",
       "  <tbody>\n",
       "    <tr>\n",
       "      <th>0</th>\n",
       "      <td>0.244898</td>\n",
       "      <td>1</td>\n",
       "      <td>0.70</td>\n",
       "      <td>0.479270</td>\n",
       "      <td>0</td>\n",
       "      <td>0.788732</td>\n",
       "      <td>0</td>\n",
       "      <td>0.295455</td>\n",
       "      <td>0</td>\n",
       "      <td>1</td>\n",
       "      <td>0</td>\n",
       "      <td>0</td>\n",
       "      <td>1</td>\n",
       "      <td>0</td>\n",
       "      <td>0</td>\n",
       "      <td>1</td>\n",
       "    </tr>\n",
       "    <tr>\n",
       "      <th>1</th>\n",
       "      <td>0.428571</td>\n",
       "      <td>0</td>\n",
       "      <td>0.80</td>\n",
       "      <td>0.298507</td>\n",
       "      <td>0</td>\n",
       "      <td>0.676056</td>\n",
       "      <td>0</td>\n",
       "      <td>0.409091</td>\n",
       "      <td>1</td>\n",
       "      <td>0</td>\n",
       "      <td>1</td>\n",
       "      <td>0</td>\n",
       "      <td>1</td>\n",
       "      <td>0</td>\n",
       "      <td>1</td>\n",
       "      <td>0</td>\n",
       "    </tr>\n",
       "    <tr>\n",
       "      <th>2</th>\n",
       "      <td>0.183673</td>\n",
       "      <td>1</td>\n",
       "      <td>0.65</td>\n",
       "      <td>0.469320</td>\n",
       "      <td>0</td>\n",
       "      <td>0.267606</td>\n",
       "      <td>0</td>\n",
       "      <td>0.295455</td>\n",
       "      <td>0</td>\n",
       "      <td>1</td>\n",
       "      <td>0</td>\n",
       "      <td>0</td>\n",
       "      <td>0</td>\n",
       "      <td>1</td>\n",
       "      <td>0</td>\n",
       "      <td>1</td>\n",
       "    </tr>\n",
       "    <tr>\n",
       "      <th>3</th>\n",
       "      <td>0.408163</td>\n",
       "      <td>0</td>\n",
       "      <td>0.69</td>\n",
       "      <td>0.354892</td>\n",
       "      <td>0</td>\n",
       "      <td>0.338028</td>\n",
       "      <td>1</td>\n",
       "      <td>0.465909</td>\n",
       "      <td>1</td>\n",
       "      <td>0</td>\n",
       "      <td>0</td>\n",
       "      <td>0</td>\n",
       "      <td>1</td>\n",
       "      <td>0</td>\n",
       "      <td>1</td>\n",
       "      <td>0</td>\n",
       "    </tr>\n",
       "    <tr>\n",
       "      <th>4</th>\n",
       "      <td>0.530612</td>\n",
       "      <td>1</td>\n",
       "      <td>0.75</td>\n",
       "      <td>0.323383</td>\n",
       "      <td>0</td>\n",
       "      <td>0.436620</td>\n",
       "      <td>0</td>\n",
       "      <td>0.295455</td>\n",
       "      <td>0</td>\n",
       "      <td>0</td>\n",
       "      <td>1</td>\n",
       "      <td>0</td>\n",
       "      <td>1</td>\n",
       "      <td>0</td>\n",
       "      <td>0</td>\n",
       "      <td>1</td>\n",
       "    </tr>\n",
       "  </tbody>\n",
       "</table>\n",
       "</div>"
      ],
      "text/plain": [
       "        Age  Sex  RestingBP  Cholesterol  FastingBS     MaxHR  ExerciseAngina  \\\n",
       "0  0.244898    1       0.70     0.479270          0  0.788732               0   \n",
       "1  0.428571    0       0.80     0.298507          0  0.676056               0   \n",
       "2  0.183673    1       0.65     0.469320          0  0.267606               0   \n",
       "3  0.408163    0       0.69     0.354892          0  0.338028               1   \n",
       "4  0.530612    1       0.75     0.323383          0  0.436620               0   \n",
       "\n",
       "    Oldpeak  HeartDisease  ChestPainType_ATA  ChestPainType_NAP  \\\n",
       "0  0.295455             0                  1                  0   \n",
       "1  0.409091             1                  0                  1   \n",
       "2  0.295455             0                  1                  0   \n",
       "3  0.465909             1                  0                  0   \n",
       "4  0.295455             0                  0                  1   \n",
       "\n",
       "   ChestPainType_TA  RestingECG_Normal  RestingECG_ST  ST_Slope_Flat  \\\n",
       "0                 0                  1              0              0   \n",
       "1                 0                  1              0              1   \n",
       "2                 0                  0              1              0   \n",
       "3                 0                  1              0              1   \n",
       "4                 0                  1              0              0   \n",
       "\n",
       "   ST_Slope_Up  \n",
       "0            1  \n",
       "1            0  \n",
       "2            1  \n",
       "3            0  \n",
       "4            1  "
      ]
     },
     "execution_count": 16,
     "metadata": {},
     "output_type": "execute_result"
    }
   ],
   "source": [
    "from sklearn.preprocessing import MinMaxScaler\n",
    "\n",
    "scaler = MinMaxScaler()\n",
    "data[['Age', 'RestingBP', 'Cholesterol', 'MaxHR', 'Oldpeak']] = scaler.fit_transform(data[['Age', 'RestingBP', 'Cholesterol', 'MaxHR', 'Oldpeak']])\n",
    "data.head()"
   ]
  },
  {
   "cell_type": "markdown",
   "id": "cfd14eb8",
   "metadata": {
    "papermill": {
     "duration": 0.014289,
     "end_time": "2025-03-13T08:50:44.766043",
     "exception": false,
     "start_time": "2025-03-13T08:50:44.751754",
     "status": "completed"
    },
    "tags": []
   },
   "source": [
    "***Splitting the Data into Features (X) and Target Variable (y)***"
   ]
  },
  {
   "cell_type": "code",
   "execution_count": 17,
   "id": "0f3dbe62",
   "metadata": {
    "execution": {
     "iopub.execute_input": "2025-03-13T08:50:44.796763Z",
     "iopub.status.busy": "2025-03-13T08:50:44.796380Z",
     "iopub.status.idle": "2025-03-13T08:50:44.802437Z",
     "shell.execute_reply": "2025-03-13T08:50:44.801449Z"
    },
    "papermill": {
     "duration": 0.023775,
     "end_time": "2025-03-13T08:50:44.804263",
     "exception": false,
     "start_time": "2025-03-13T08:50:44.780488",
     "status": "completed"
    },
    "tags": []
   },
   "outputs": [],
   "source": [
    "# features\n",
    "X = data.drop(columns=['HeartDisease'])\n",
    "\n",
    "# label\n",
    "y = data['HeartDisease']"
   ]
  },
  {
   "cell_type": "code",
   "execution_count": 18,
   "id": "e8210e0d",
   "metadata": {
    "execution": {
     "iopub.execute_input": "2025-03-13T08:50:44.835307Z",
     "iopub.status.busy": "2025-03-13T08:50:44.834873Z",
     "iopub.status.idle": "2025-03-13T08:50:44.850136Z",
     "shell.execute_reply": "2025-03-13T08:50:44.848789Z"
    },
    "papermill": {
     "duration": 0.032986,
     "end_time": "2025-03-13T08:50:44.852040",
     "exception": false,
     "start_time": "2025-03-13T08:50:44.819054",
     "status": "completed"
    },
    "tags": []
   },
   "outputs": [
    {
     "data": {
      "text/html": [
       "<div>\n",
       "<style scoped>\n",
       "    .dataframe tbody tr th:only-of-type {\n",
       "        vertical-align: middle;\n",
       "    }\n",
       "\n",
       "    .dataframe tbody tr th {\n",
       "        vertical-align: top;\n",
       "    }\n",
       "\n",
       "    .dataframe thead th {\n",
       "        text-align: right;\n",
       "    }\n",
       "</style>\n",
       "<table border=\"1\" class=\"dataframe\">\n",
       "  <thead>\n",
       "    <tr style=\"text-align: right;\">\n",
       "      <th></th>\n",
       "      <th>Age</th>\n",
       "      <th>Sex</th>\n",
       "      <th>RestingBP</th>\n",
       "      <th>Cholesterol</th>\n",
       "      <th>FastingBS</th>\n",
       "      <th>MaxHR</th>\n",
       "      <th>ExerciseAngina</th>\n",
       "      <th>Oldpeak</th>\n",
       "      <th>ChestPainType_ATA</th>\n",
       "      <th>ChestPainType_NAP</th>\n",
       "      <th>ChestPainType_TA</th>\n",
       "      <th>RestingECG_Normal</th>\n",
       "      <th>RestingECG_ST</th>\n",
       "      <th>ST_Slope_Flat</th>\n",
       "      <th>ST_Slope_Up</th>\n",
       "    </tr>\n",
       "  </thead>\n",
       "  <tbody>\n",
       "    <tr>\n",
       "      <th>0</th>\n",
       "      <td>0.244898</td>\n",
       "      <td>1</td>\n",
       "      <td>0.70</td>\n",
       "      <td>0.479270</td>\n",
       "      <td>0</td>\n",
       "      <td>0.788732</td>\n",
       "      <td>0</td>\n",
       "      <td>0.295455</td>\n",
       "      <td>1</td>\n",
       "      <td>0</td>\n",
       "      <td>0</td>\n",
       "      <td>1</td>\n",
       "      <td>0</td>\n",
       "      <td>0</td>\n",
       "      <td>1</td>\n",
       "    </tr>\n",
       "    <tr>\n",
       "      <th>1</th>\n",
       "      <td>0.428571</td>\n",
       "      <td>0</td>\n",
       "      <td>0.80</td>\n",
       "      <td>0.298507</td>\n",
       "      <td>0</td>\n",
       "      <td>0.676056</td>\n",
       "      <td>0</td>\n",
       "      <td>0.409091</td>\n",
       "      <td>0</td>\n",
       "      <td>1</td>\n",
       "      <td>0</td>\n",
       "      <td>1</td>\n",
       "      <td>0</td>\n",
       "      <td>1</td>\n",
       "      <td>0</td>\n",
       "    </tr>\n",
       "    <tr>\n",
       "      <th>2</th>\n",
       "      <td>0.183673</td>\n",
       "      <td>1</td>\n",
       "      <td>0.65</td>\n",
       "      <td>0.469320</td>\n",
       "      <td>0</td>\n",
       "      <td>0.267606</td>\n",
       "      <td>0</td>\n",
       "      <td>0.295455</td>\n",
       "      <td>1</td>\n",
       "      <td>0</td>\n",
       "      <td>0</td>\n",
       "      <td>0</td>\n",
       "      <td>1</td>\n",
       "      <td>0</td>\n",
       "      <td>1</td>\n",
       "    </tr>\n",
       "    <tr>\n",
       "      <th>3</th>\n",
       "      <td>0.408163</td>\n",
       "      <td>0</td>\n",
       "      <td>0.69</td>\n",
       "      <td>0.354892</td>\n",
       "      <td>0</td>\n",
       "      <td>0.338028</td>\n",
       "      <td>1</td>\n",
       "      <td>0.465909</td>\n",
       "      <td>0</td>\n",
       "      <td>0</td>\n",
       "      <td>0</td>\n",
       "      <td>1</td>\n",
       "      <td>0</td>\n",
       "      <td>1</td>\n",
       "      <td>0</td>\n",
       "    </tr>\n",
       "    <tr>\n",
       "      <th>4</th>\n",
       "      <td>0.530612</td>\n",
       "      <td>1</td>\n",
       "      <td>0.75</td>\n",
       "      <td>0.323383</td>\n",
       "      <td>0</td>\n",
       "      <td>0.436620</td>\n",
       "      <td>0</td>\n",
       "      <td>0.295455</td>\n",
       "      <td>0</td>\n",
       "      <td>1</td>\n",
       "      <td>0</td>\n",
       "      <td>1</td>\n",
       "      <td>0</td>\n",
       "      <td>0</td>\n",
       "      <td>1</td>\n",
       "    </tr>\n",
       "  </tbody>\n",
       "</table>\n",
       "</div>"
      ],
      "text/plain": [
       "        Age  Sex  RestingBP  Cholesterol  FastingBS     MaxHR  ExerciseAngina  \\\n",
       "0  0.244898    1       0.70     0.479270          0  0.788732               0   \n",
       "1  0.428571    0       0.80     0.298507          0  0.676056               0   \n",
       "2  0.183673    1       0.65     0.469320          0  0.267606               0   \n",
       "3  0.408163    0       0.69     0.354892          0  0.338028               1   \n",
       "4  0.530612    1       0.75     0.323383          0  0.436620               0   \n",
       "\n",
       "    Oldpeak  ChestPainType_ATA  ChestPainType_NAP  ChestPainType_TA  \\\n",
       "0  0.295455                  1                  0                 0   \n",
       "1  0.409091                  0                  1                 0   \n",
       "2  0.295455                  1                  0                 0   \n",
       "3  0.465909                  0                  0                 0   \n",
       "4  0.295455                  0                  1                 0   \n",
       "\n",
       "   RestingECG_Normal  RestingECG_ST  ST_Slope_Flat  ST_Slope_Up  \n",
       "0                  1              0              0            1  \n",
       "1                  1              0              1            0  \n",
       "2                  0              1              0            1  \n",
       "3                  1              0              1            0  \n",
       "4                  1              0              0            1  "
      ]
     },
     "execution_count": 18,
     "metadata": {},
     "output_type": "execute_result"
    }
   ],
   "source": [
    "X.head()"
   ]
  },
  {
   "cell_type": "markdown",
   "id": "4fc842a0",
   "metadata": {
    "papermill": {
     "duration": 0.014872,
     "end_time": "2025-03-13T08:50:44.882351",
     "exception": false,
     "start_time": "2025-03-13T08:50:44.867479",
     "status": "completed"
    },
    "tags": []
   },
   "source": [
    "**Train-Test Split**"
   ]
  },
  {
   "cell_type": "code",
   "execution_count": 19,
   "id": "7d480606",
   "metadata": {
    "execution": {
     "iopub.execute_input": "2025-03-13T08:50:44.914511Z",
     "iopub.status.busy": "2025-03-13T08:50:44.914156Z",
     "iopub.status.idle": "2025-03-13T08:50:45.049940Z",
     "shell.execute_reply": "2025-03-13T08:50:45.048681Z"
    },
    "papermill": {
     "duration": 0.154402,
     "end_time": "2025-03-13T08:50:45.051972",
     "exception": false,
     "start_time": "2025-03-13T08:50:44.897570",
     "status": "completed"
    },
    "tags": []
   },
   "outputs": [
    {
     "name": "stdout",
     "output_type": "stream",
     "text": [
      "X_train shape: (734, 15)\n",
      "X_test shape: (184, 15)\n",
      "y_train shape: (734,)\n",
      "y_test shape: (184,)\n"
     ]
    }
   ],
   "source": [
    "from sklearn.model_selection import train_test_split\n",
    "\n",
    "# Split the data into training and testing sets (80% train, 20% test)\n",
    "X_train, X_test, y_train, y_test = train_test_split(X, y, test_size=0.2, random_state=42)\n",
    "\n",
    "# Check the shape of the split data\n",
    "print(f\"X_train shape: {X_train.shape}\")\n",
    "print(f\"X_test shape: {X_test.shape}\")\n",
    "print(f\"y_train shape: {y_train.shape}\")\n",
    "print(f\"y_test shape: {y_test.shape}\")"
   ]
  },
  {
   "cell_type": "markdown",
   "id": "569b164e",
   "metadata": {
    "papermill": {
     "duration": 0.01548,
     "end_time": "2025-03-13T08:50:45.082958",
     "exception": false,
     "start_time": "2025-03-13T08:50:45.067478",
     "status": "completed"
    },
    "tags": []
   },
   "source": [
    "## Machine Learning Models"
   ]
  },
  {
   "cell_type": "code",
   "execution_count": 20,
   "id": "7b7ea265",
   "metadata": {
    "execution": {
     "iopub.execute_input": "2025-03-13T08:50:45.114640Z",
     "iopub.status.busy": "2025-03-13T08:50:45.114270Z",
     "iopub.status.idle": "2025-03-13T08:50:45.118850Z",
     "shell.execute_reply": "2025-03-13T08:50:45.117809Z"
    },
    "papermill": {
     "duration": 0.022434,
     "end_time": "2025-03-13T08:50:45.120476",
     "exception": false,
     "start_time": "2025-03-13T08:50:45.098042",
     "status": "completed"
    },
    "tags": []
   },
   "outputs": [],
   "source": [
    "from sklearn.metrics import accuracy_score, classification_report, confusion_matrix"
   ]
  },
  {
   "cell_type": "markdown",
   "id": "f021a79a",
   "metadata": {
    "papermill": {
     "duration": 0.014665,
     "end_time": "2025-03-13T08:50:45.150167",
     "exception": false,
     "start_time": "2025-03-13T08:50:45.135502",
     "status": "completed"
    },
    "tags": []
   },
   "source": [
    "## 1. Logistic Regression"
   ]
  },
  {
   "cell_type": "code",
   "execution_count": 21,
   "id": "3320feb0",
   "metadata": {
    "execution": {
     "iopub.execute_input": "2025-03-13T08:50:45.181307Z",
     "iopub.status.busy": "2025-03-13T08:50:45.180883Z",
     "iopub.status.idle": "2025-03-13T08:50:45.346640Z",
     "shell.execute_reply": "2025-03-13T08:50:45.345452Z"
    },
    "papermill": {
     "duration": 0.183498,
     "end_time": "2025-03-13T08:50:45.348569",
     "exception": false,
     "start_time": "2025-03-13T08:50:45.165071",
     "status": "completed"
    },
    "tags": []
   },
   "outputs": [
    {
     "name": "stdout",
     "output_type": "stream",
     "text": [
      "Logistic Regression Accuracy:  0.8532608695652174\n",
      "\n",
      "Classification Report:\n",
      "               precision    recall  f1-score   support\n",
      "\n",
      "           0       0.80      0.87      0.83        77\n",
      "           1       0.90      0.84      0.87       107\n",
      "\n",
      "    accuracy                           0.85       184\n",
      "   macro avg       0.85      0.86      0.85       184\n",
      "weighted avg       0.86      0.85      0.85       184\n",
      "\n",
      "Confusion Matrix:\n",
      " [[67 10]\n",
      " [17 90]]\n"
     ]
    }
   ],
   "source": [
    "from sklearn.linear_model import LogisticRegression\n",
    "\n",
    "lr_model = LogisticRegression()\n",
    "\n",
    "lr_model.fit(X_train, y_train)\n",
    "\n",
    "y_pred_lr = lr_model.predict(X_test)\n",
    "\n",
    "print(\"Logistic Regression Accuracy: \", accuracy_score(y_test, y_pred_lr))\n",
    "print(\"\\nClassification Report:\\n\", classification_report(y_test, y_pred_lr))\n",
    "print(\"Confusion Matrix:\\n\", confusion_matrix(y_test, y_pred_lr))"
   ]
  },
  {
   "cell_type": "markdown",
   "id": "058eba60",
   "metadata": {
    "papermill": {
     "duration": 0.01485,
     "end_time": "2025-03-13T08:50:45.378694",
     "exception": false,
     "start_time": "2025-03-13T08:50:45.363844",
     "status": "completed"
    },
    "tags": []
   },
   "source": [
    "## 2. KNN"
   ]
  },
  {
   "cell_type": "code",
   "execution_count": 22,
   "id": "d46f994f",
   "metadata": {
    "execution": {
     "iopub.execute_input": "2025-03-13T08:50:45.410550Z",
     "iopub.status.busy": "2025-03-13T08:50:45.410087Z",
     "iopub.status.idle": "2025-03-13T08:50:45.595587Z",
     "shell.execute_reply": "2025-03-13T08:50:45.594065Z"
    },
    "papermill": {
     "duration": 0.203808,
     "end_time": "2025-03-13T08:50:45.597647",
     "exception": false,
     "start_time": "2025-03-13T08:50:45.393839",
     "status": "completed"
    },
    "tags": []
   },
   "outputs": [
    {
     "name": "stdout",
     "output_type": "stream",
     "text": [
      "KNN Accuracy:  0.8532608695652174\n",
      "\n",
      "Classification Report:\n",
      "               precision    recall  f1-score   support\n",
      "\n",
      "           0       0.81      0.84      0.83        77\n",
      "           1       0.88      0.86      0.87       107\n",
      "\n",
      "    accuracy                           0.85       184\n",
      "   macro avg       0.85      0.85      0.85       184\n",
      "weighted avg       0.85      0.85      0.85       184\n",
      "\n",
      "Confusion Matrix:\n",
      " [[65 12]\n",
      " [15 92]]\n"
     ]
    }
   ],
   "source": [
    "from sklearn.neighbors import KNeighborsClassifier\n",
    "\n",
    "# k default 5\n",
    "knn_model = KNeighborsClassifier(n_neighbors = 7)\n",
    "knn_model.fit(X_train, y_train)\n",
    "y_pred_knn = knn_model.predict(X_test)\n",
    "\n",
    "print(\"KNN Accuracy: \", accuracy_score(y_test, y_pred_knn))\n",
    "print(\"\\nClassification Report:\\n\", classification_report(y_test, y_pred_knn))\n",
    "print(\"Confusion Matrix:\\n\", confusion_matrix(y_test, y_pred_knn))"
   ]
  },
  {
   "cell_type": "markdown",
   "id": "9b1b901d",
   "metadata": {
    "papermill": {
     "duration": 0.015359,
     "end_time": "2025-03-13T08:50:45.628247",
     "exception": false,
     "start_time": "2025-03-13T08:50:45.612888",
     "status": "completed"
    },
    "tags": []
   },
   "source": [
    "## 3. SVM"
   ]
  },
  {
   "cell_type": "code",
   "execution_count": 23,
   "id": "a543e1b9",
   "metadata": {
    "execution": {
     "iopub.execute_input": "2025-03-13T08:50:45.660219Z",
     "iopub.status.busy": "2025-03-13T08:50:45.659765Z",
     "iopub.status.idle": "2025-03-13T08:50:45.699001Z",
     "shell.execute_reply": "2025-03-13T08:50:45.697665Z"
    },
    "papermill": {
     "duration": 0.057331,
     "end_time": "2025-03-13T08:50:45.700840",
     "exception": false,
     "start_time": "2025-03-13T08:50:45.643509",
     "status": "completed"
    },
    "tags": []
   },
   "outputs": [
    {
     "name": "stdout",
     "output_type": "stream",
     "text": [
      "SVM Accuracy:  0.8478260869565217\n",
      "\n",
      "Classification Report:\n",
      "               precision    recall  f1-score   support\n",
      "\n",
      "           0       0.80      0.84      0.82        77\n",
      "           1       0.88      0.85      0.87       107\n",
      "\n",
      "    accuracy                           0.85       184\n",
      "   macro avg       0.84      0.85      0.84       184\n",
      "weighted avg       0.85      0.85      0.85       184\n",
      "\n",
      "Confusion Matrix:\n",
      " [[65 12]\n",
      " [16 91]]\n"
     ]
    }
   ],
   "source": [
    "from sklearn.svm import SVC\n",
    "svm_model = SVC(random_state=1)\n",
    "svm_model.fit(X_train, y_train)\n",
    "y_pred_svm = svm_model.predict(X_test)\n",
    "\n",
    "print(\"SVM Accuracy: \", accuracy_score(y_test, y_pred_svm))\n",
    "print(\"\\nClassification Report:\\n\", classification_report(y_test, y_pred_svm))\n",
    "print(\"Confusion Matrix:\\n\", confusion_matrix(y_test, y_pred_svm))"
   ]
  },
  {
   "cell_type": "markdown",
   "id": "76c72e16",
   "metadata": {
    "papermill": {
     "duration": 0.01522,
     "end_time": "2025-03-13T08:50:45.731632",
     "exception": false,
     "start_time": "2025-03-13T08:50:45.716412",
     "status": "completed"
    },
    "tags": []
   },
   "source": [
    "## 4. Naive Bayes"
   ]
  },
  {
   "cell_type": "code",
   "execution_count": 24,
   "id": "4434847f",
   "metadata": {
    "execution": {
     "iopub.execute_input": "2025-03-13T08:50:45.764074Z",
     "iopub.status.busy": "2025-03-13T08:50:45.763600Z",
     "iopub.status.idle": "2025-03-13T08:50:45.796591Z",
     "shell.execute_reply": "2025-03-13T08:50:45.795310Z"
    },
    "papermill": {
     "duration": 0.051,
     "end_time": "2025-03-13T08:50:45.798309",
     "exception": false,
     "start_time": "2025-03-13T08:50:45.747309",
     "status": "completed"
    },
    "tags": []
   },
   "outputs": [
    {
     "name": "stdout",
     "output_type": "stream",
     "text": [
      "Naive Bayes Accuracy:  0.8586956521739131\n",
      "\n",
      "Classification Report:\n",
      "               precision    recall  f1-score   support\n",
      "\n",
      "           0       0.80      0.88      0.84        77\n",
      "           1       0.91      0.84      0.87       107\n",
      "\n",
      "    accuracy                           0.86       184\n",
      "   macro avg       0.85      0.86      0.86       184\n",
      "weighted avg       0.86      0.86      0.86       184\n",
      "\n",
      "Confusion Matrix:\n",
      " [[68  9]\n",
      " [17 90]]\n"
     ]
    }
   ],
   "source": [
    "from sklearn.naive_bayes import GaussianNB\n",
    "model_nb = GaussianNB()\n",
    "model_nb.fit(X_train, y_train)\n",
    "y_pred_nb = model_nb.predict(X_test)\n",
    "\n",
    "print(\"Naive Bayes Accuracy: \", accuracy_score(y_test, y_pred_nb))\n",
    "print(\"\\nClassification Report:\\n\", classification_report(y_test, y_pred_nb))\n",
    "print(\"Confusion Matrix:\\n\", confusion_matrix(y_test, y_pred_nb))"
   ]
  },
  {
   "cell_type": "markdown",
   "id": "8eb6e9e4",
   "metadata": {
    "papermill": {
     "duration": 0.015832,
     "end_time": "2025-03-13T08:50:45.829534",
     "exception": false,
     "start_time": "2025-03-13T08:50:45.813702",
     "status": "completed"
    },
    "tags": []
   },
   "source": [
    "## 5. Decision Tree"
   ]
  },
  {
   "cell_type": "code",
   "execution_count": 25,
   "id": "57f81190",
   "metadata": {
    "execution": {
     "iopub.execute_input": "2025-03-13T08:50:45.863137Z",
     "iopub.status.busy": "2025-03-13T08:50:45.862731Z",
     "iopub.status.idle": "2025-03-13T08:50:45.934299Z",
     "shell.execute_reply": "2025-03-13T08:50:45.933055Z"
    },
    "papermill": {
     "duration": 0.091198,
     "end_time": "2025-03-13T08:50:45.936510",
     "exception": false,
     "start_time": "2025-03-13T08:50:45.845312",
     "status": "completed"
    },
    "tags": []
   },
   "outputs": [
    {
     "name": "stdout",
     "output_type": "stream",
     "text": [
      "Decision Tree Accuracy:  0.8369565217391305\n",
      "\n",
      "Classification Report:\n",
      "               precision    recall  f1-score   support\n",
      "\n",
      "           0       0.81      0.81      0.81        77\n",
      "           1       0.86      0.86      0.86       107\n",
      "\n",
      "    accuracy                           0.84       184\n",
      "   macro avg       0.83      0.83      0.83       184\n",
      "weighted avg       0.84      0.84      0.84       184\n",
      "\n",
      "Confusion Matrix:\n",
      " [[62 15]\n",
      " [15 92]]\n"
     ]
    }
   ],
   "source": [
    "from sklearn.tree import DecisionTreeClassifier\n",
    "model_dt = DecisionTreeClassifier()\n",
    "model_dt.fit(X_train, y_train)\n",
    "y_pred_dt = model_dt.predict(X_test)\n",
    "\n",
    "print(\"Decision Tree Accuracy: \", accuracy_score(y_test, y_pred_dt))\n",
    "print(\"\\nClassification Report:\\n\", classification_report(y_test, y_pred_dt))\n",
    "print(\"Confusion Matrix:\\n\", confusion_matrix(y_test, y_pred_dt))"
   ]
  },
  {
   "cell_type": "markdown",
   "id": "2c250f82",
   "metadata": {
    "papermill": {
     "duration": 0.01525,
     "end_time": "2025-03-13T08:50:45.967574",
     "exception": false,
     "start_time": "2025-03-13T08:50:45.952324",
     "status": "completed"
    },
    "tags": []
   },
   "source": [
    "## 6. Random Forest"
   ]
  },
  {
   "cell_type": "code",
   "execution_count": 26,
   "id": "e9ec8ad2",
   "metadata": {
    "execution": {
     "iopub.execute_input": "2025-03-13T08:50:46.000598Z",
     "iopub.status.busy": "2025-03-13T08:50:46.000174Z",
     "iopub.status.idle": "2025-03-13T08:50:46.175438Z",
     "shell.execute_reply": "2025-03-13T08:50:46.174022Z"
    },
    "papermill": {
     "duration": 0.194349,
     "end_time": "2025-03-13T08:50:46.177382",
     "exception": false,
     "start_time": "2025-03-13T08:50:45.983033",
     "status": "completed"
    },
    "tags": []
   },
   "outputs": [
    {
     "name": "stdout",
     "output_type": "stream",
     "text": [
      "Random Forest Accuracy:  0.8641304347826086\n",
      "\n",
      "Classification Report:\n",
      "               precision    recall  f1-score   support\n",
      "\n",
      "           0       0.82      0.86      0.84        77\n",
      "           1       0.89      0.87      0.88       107\n",
      "\n",
      "    accuracy                           0.86       184\n",
      "   macro avg       0.86      0.86      0.86       184\n",
      "weighted avg       0.87      0.86      0.86       184\n",
      "\n",
      "Confusion Matrix:\n",
      " [[66 11]\n",
      " [14 93]]\n"
     ]
    }
   ],
   "source": [
    "from sklearn.ensemble import RandomForestClassifier\n",
    "model_rf = RandomForestClassifier(n_estimators = 11,random_state = 1)\n",
    "model_rf.fit(X_train,y_train)\n",
    "y_pred_rf = model_rf.predict(X_test)\n",
    "\n",
    "print(\"Random Forest Accuracy: \", accuracy_score(y_test, y_pred_rf))\n",
    "print(\"\\nClassification Report:\\n\", classification_report(y_test, y_pred_rf))\n",
    "print(\"Confusion Matrix:\\n\", confusion_matrix(y_test, y_pred_rf))"
   ]
  },
  {
   "cell_type": "markdown",
   "id": "4b82bd6d",
   "metadata": {
    "papermill": {
     "duration": 0.015302,
     "end_time": "2025-03-13T08:50:46.208194",
     "exception": false,
     "start_time": "2025-03-13T08:50:46.192892",
     "status": "completed"
    },
    "tags": []
   },
   "source": [
    "# Evaluation Classification Models"
   ]
  },
  {
   "cell_type": "code",
   "execution_count": 27,
   "id": "2604f698",
   "metadata": {
    "execution": {
     "iopub.execute_input": "2025-03-13T08:50:46.240950Z",
     "iopub.status.busy": "2025-03-13T08:50:46.240558Z",
     "iopub.status.idle": "2025-03-13T08:50:46.246326Z",
     "shell.execute_reply": "2025-03-13T08:50:46.245055Z"
    },
    "papermill": {
     "duration": 0.024679,
     "end_time": "2025-03-13T08:50:46.248557",
     "exception": false,
     "start_time": "2025-03-13T08:50:46.223878",
     "status": "completed"
    },
    "tags": []
   },
   "outputs": [],
   "source": [
    "def plot_confusion_matrix(y_true, y_pred, title=\"Confusion Matrix\"):\n",
    "    # Confusion MAtrix\n",
    "    cm = confusion_matrix(y_true, y_pred)\n",
    "\n",
    "    # Visualization\n",
    "    plt.figure(figsize=(4, 4))\n",
    "    sns.heatmap(cm, annot=True,linewidths=0.5, fmt=\"d\", linecolor='red')\n",
    "    \n",
    "    plt.title(title)\n",
    "    plt.xlabel('Predicted')\n",
    "    plt.ylabel('Actual')\n",
    "    plt.show()"
   ]
  },
  {
   "cell_type": "code",
   "execution_count": 28,
   "id": "7227234f",
   "metadata": {
    "execution": {
     "iopub.execute_input": "2025-03-13T08:50:46.282016Z",
     "iopub.status.busy": "2025-03-13T08:50:46.281560Z",
     "iopub.status.idle": "2025-03-13T08:50:46.501942Z",
     "shell.execute_reply": "2025-03-13T08:50:46.500335Z"
    },
    "papermill": {
     "duration": 0.239304,
     "end_time": "2025-03-13T08:50:46.504010",
     "exception": false,
     "start_time": "2025-03-13T08:50:46.264706",
     "status": "completed"
    },
    "tags": []
   },
   "outputs": [
    {
     "data": {
      "image/png": "[encoded data removed]",
      "text/plain": [
       "<Figure size 400x400 with 2 Axes>"
      ]
     },
     "metadata": {},
     "output_type": "display_data"
    }
   ],
   "source": [
    "plot_confusion_matrix(y_test, y_pred_knn, 'KNN CM')"
   ]
  },
  {
   "cell_type": "code",
   "execution_count": 29,
   "id": "075511d7",
   "metadata": {
    "execution": {
     "iopub.execute_input": "2025-03-13T08:50:46.539501Z",
     "iopub.status.busy": "2025-03-13T08:50:46.539089Z",
     "iopub.status.idle": "2025-03-13T08:50:46.740768Z",
     "shell.execute_reply": "2025-03-13T08:50:46.739673Z"
    },
    "papermill": {
     "duration": 0.22219,
     "end_time": "2025-03-13T08:50:46.742631",
     "exception": false,
     "start_time": "2025-03-13T08:50:46.520441",
     "status": "completed"
    },
    "tags": []
   },
   "outputs": [
    {
     "data": {
      "image/png": "[encoded data removed]",
      "text/plain": [
       "<Figure size 400x400 with 2 Axes>"
      ]
     },
     "metadata": {},
     "output_type": "display_data"
    }
   ],
   "source": [
    "plot_confusion_matrix(y_test, y_pred_rf, 'Random Forest CM')"
   ]
  },
  {
   "cell_type": "code",
   "execution_count": 30,
   "id": "4af78004",
   "metadata": {
    "execution": {
     "iopub.execute_input": "2025-03-13T08:50:46.777441Z",
     "iopub.status.busy": "2025-03-13T08:50:46.776997Z",
     "iopub.status.idle": "2025-03-13T08:50:46.881353Z",
     "shell.execute_reply": "2025-03-13T08:50:46.879875Z"
    },
    "papermill": {
     "duration": 0.123867,
     "end_time": "2025-03-13T08:50:46.883249",
     "exception": false,
     "start_time": "2025-03-13T08:50:46.759382",
     "status": "completed"
    },
    "tags": []
   },
   "outputs": [
    {
     "name": "stdout",
     "output_type": "stream",
     "text": [
      "Logistic Regression Accuracy: 0.8532608695652174\n",
      "KNN Accuracy: 0.8532608695652174\n",
      "SVM Accuracy: 0.8478260869565217\n",
      "Naive Bayes Accuracy: 0.8586956521739131\n",
      "Decision Tree Accuracy: 0.8369565217391305\n",
      "Random Forest Accuracy: 0.8641304347826086\n",
      "\n",
      "Best Performing Model: Random Forest with Accuracy: 0.8641304347826086\n"
     ]
    }
   ],
   "source": [
    "models = [lr_model, knn_model, svm_model, model_nb, model_dt, model_rf]\n",
    "model_names = ['Logistic Regression', 'KNN', 'SVM', 'Naive Bayes', 'Decision Tree', 'Random Forest',]\n",
    "accuracies = []\n",
    "\n",
    "for model, name in zip(models, model_names):\n",
    "    model.fit(X_train, y_train)\n",
    "    y_pred = model.predict(X_test)\n",
    "    accuracy = accuracy_score(y_test, y_pred)\n",
    "    accuracies.append(accuracy)\n",
    "    print(f\"{name} Accuracy: {accuracy}\")\n",
    "\n",
    "# Display model comparison\n",
    "best_model_index = accuracies.index(max(accuracies))\n",
    "print(f\"\\nBest Performing Model: {model_names[best_model_index]} with Accuracy: {accuracies[best_model_index]}\")\n"
   ]
  },
  {
   "cell_type": "code",
   "execution_count": 31,
   "id": "b6fddf94",
   "metadata": {
    "execution": {
     "iopub.execute_input": "2025-03-13T08:50:46.917100Z",
     "iopub.status.busy": "2025-03-13T08:50:46.916681Z",
     "iopub.status.idle": "2025-03-13T08:50:46.923334Z",
     "shell.execute_reply": "2025-03-13T08:50:46.922079Z"
    },
    "papermill": {
     "duration": 0.025894,
     "end_time": "2025-03-13T08:50:46.925332",
     "exception": false,
     "start_time": "2025-03-13T08:50:46.899438",
     "status": "completed"
    },
    "tags": []
   },
   "outputs": [],
   "source": [
    "from sklearn.metrics import roc_curve, roc_auc_score\n",
    "\n",
    "def plot_roc_curve(y_true, y_pred_prob, title=\"ROC Curve\"):\n",
    "    \n",
    "    fpr, tpr, thresholds = roc_curve(y_true, y_pred_prob)\n",
    "    \n",
    "    auc = roc_auc_score(y_true, y_pred_prob)\n",
    "    \n",
    "    plt.figure(figsize=(8, 6))\n",
    "    plt.plot(fpr, tpr, color='b', label=f'ROC Curve (AUC = {auc:.2f})')\n",
    "    plt.plot([0, 1], [0, 1], color='r', linestyle='--') \n",
    "    plt.title(title)\n",
    "    plt.xlabel('False Positive Rate')\n",
    "    plt.ylabel('True Positive Rate')\n",
    "    plt.legend(loc=\"lower right\")\n",
    "    plt.grid(True)\n",
    "    plt.show()"
   ]
  },
  {
   "cell_type": "code",
   "execution_count": 32,
   "id": "1fc7e2d6",
   "metadata": {
    "execution": {
     "iopub.execute_input": "2025-03-13T08:50:46.959661Z",
     "iopub.status.busy": "2025-03-13T08:50:46.959266Z",
     "iopub.status.idle": "2025-03-13T08:50:47.185079Z",
     "shell.execute_reply": "2025-03-13T08:50:47.183854Z"
    },
    "papermill": {
     "duration": 0.245012,
     "end_time": "2025-03-13T08:50:47.186794",
     "exception": false,
     "start_time": "2025-03-13T08:50:46.941782",
     "status": "completed"
    },
    "tags": []
   },
   "outputs": [
    {
     "data": {
      "image/png": "[encoded data removed]",
      "text/plain": [
       "<Figure size 800x600 with 1 Axes>"
      ]
     },
     "metadata": {},
     "output_type": "display_data"
    }
   ],
   "source": [
    "plot_roc_curve(y_test, y_pred_rf)"
   ]
  },
  {
   "cell_type": "code",
   "execution_count": 33,
   "id": "1fb102bb",
   "metadata": {
    "execution": {
     "iopub.execute_input": "2025-03-13T08:50:47.284724Z",
     "iopub.status.busy": "2025-03-13T08:50:47.284352Z",
     "iopub.status.idle": "2025-03-13T08:50:47.500125Z",
     "shell.execute_reply": "2025-03-13T08:50:47.498907Z"
    },
    "papermill": {
     "duration": 0.298164,
     "end_time": "2025-03-13T08:50:47.502483",
     "exception": false,
     "start_time": "2025-03-13T08:50:47.204319",
     "status": "completed"
    },
    "tags": []
   },
   "outputs": [
    {
     "data": {
      "image/png": "[encoded data removed]",
      "text/plain": [
       "<Figure size 800x600 with 1 Axes>"
      ]
     },
     "metadata": {},
     "output_type": "display_data"
    }
   ],
   "source": [
    "plot_roc_curve(y_test, y_pred_dt)"
   ]
  }
 ],
 "metadata": {
  "kaggle": {
   "accelerator": "none",
   "dataSources": [
    {
     "datasetId": 1582403,
     "sourceId": 2603715,
     "sourceType": "datasetVersion"
    }
   ],
   "dockerImageVersionId": 30918,
   "isGpuEnabled": false,
   "isInternetEnabled": true,
   "language": "python",
   "sourceType": "notebook"
  },
  "kernelspec": {
   "display_name": "Python 3 (ipykernel)",
   "language": "python",
   "name": "python3"
  },
  "language_info": {
   "codemirror_mode": {
    "name": "ipython",
    "version": 3
   },
   "file_extension": ".py",
   "mimetype": "text/x-python",
   "name": "python",
   "nbconvert_exporter": "python",
   "pygments_lexer": "ipython3",
   "version": "3.12.4"
  },
  "papermill": {
   "default_parameters": {},
   "duration": 13.44313,
   "end_time": "2025-03-13T08:50:48.343466",
   "environment_variables": {},
   "exception": null,
   "input_path": "__notebook__.ipynb",
   "output_path": "__notebook__.ipynb",
   "parameters": {},
   "start_time": "2025-03-13T08:50:34.900336",
   "version": "2.6.0"
  }
 },
 "nbformat": 4,
 "nbformat_minor": 5
}
